{
 "cells": [
  {
   "cell_type": "markdown",
   "id": "870e4461",
   "metadata": {},
   "source": [
    "# Matplotlib Assignment"
   ]
  },
  {
   "cell_type": "code",
   "execution_count": null,
   "id": "0b87e200",
   "metadata": {},
   "outputs": [],
   "source": [
    "import matplotlib.pyplot as plt\n",
    "import numpy as np"
   ]
  },
  {
   "cell_type": "markdown",
   "id": "f9389033",
   "metadata": {},
   "source": [
    "## 1. Simple Line Plot"
   ]
  },
  {
   "cell_type": "markdown",
   "id": "c82ff739",
   "metadata": {},
   "source": []
  },
  {
   "cell_type": "code",
   "execution_count": null,
   "id": "e38ee575",
   "metadata": {},
   "outputs": [],
   "source": [
    "x = [1, 2, 3, 4, 5]\n",
    "y = [10, 15, 25, 30, 50]\n",
    "\n",
    "# a. Plot the data\n",
    "plt.plot(x, y)\n",
    "\n",
    "# b. Customize plot\n",
    "plt.title(\"Simple Line Plot\")\n",
    "plt.xlabel(\"X-axis\")\n",
    "plt.ylabel(\"Y-axis\")\n",
    "plt.grid(True)\n",
    "plt.show()"
   ]
  },
  {
   "cell_type": "markdown",
   "id": "e5d54fed",
   "metadata": {},
   "source": [
    "## 2. Bar Graph of Student Marks"
   ]
  },
  {
   "cell_type": "code",
   "execution_count": null,
   "id": "1e9e8e72",
   "metadata": {},
   "outputs": [],
   "source": [
    "students = ['John', 'Jane', 'Alice', 'Bob']\n",
    "marks = [75, 85, 60, 90]\n",
    "\n",
    "# a. Plot bar graph\n",
    "plt.bar(students, marks, color=['blue', 'green', 'orange', 'red'])\n",
    "\n",
    "# b. Customize\n",
    "plt.title(\"Marks of Students\")\n",
    "plt.xlabel(\"Students\")\n",
    "plt.ylabel(\"Marks\")\n",
    "plt.show()"
   ]
  },
  {
   "cell_type": "markdown",
   "id": "1242357f",
   "metadata": {},
   "source": [
    "## 3. Pie Chart of Company Revenue Distribution"
   ]
  },
  {
   "cell_type": "code",
   "execution_count": null,
   "id": "1c9ceca8",
   "metadata": {},
   "outputs": [],
   "source": [
    "regions = ['North America', 'Europe', 'Asia', 'Others']\n",
    "revenue = [45, 25, 20, 10]\n",
    "\n",
    "# Highlight the region with highest revenue (North America -> 45)\n",
    "explode = [0.1 if val == max(revenue) else 0 for val in revenue]\n",
    "\n",
    "plt.pie(revenue, labels=regions, autopct='%1.1f%%', explode=explode, shadow=True)\n",
    "plt.title(\"Company Revenue Distribution\")\n",
    "plt.show()"
   ]
  },
  {
   "cell_type": "markdown",
   "id": "b5a509d9",
   "metadata": {},
   "source": [
    "## 4. Histogram of Random Integers"
   ]
  },
  {
   "cell_type": "code",
   "execution_count": null,
   "id": "46f16c32",
   "metadata": {},
   "outputs": [],
   "source": [
    "data = np.random.randint(1, 101, 1000)\n",
    "\n",
    "plt.hist(data, bins=10, color='purple', edgecolor='black')\n",
    "plt.title(\"Histogram of Random Integers (1–100)\")\n",
    "plt.xlabel(\"Value Range\")\n",
    "plt.ylabel(\"Frequency\")\n",
    "plt.show()"
   ]
  }
 ],
 "metadata": {
  "language_info": {
   "name": "python"
  }
 },
 "nbformat": 4,
 "nbformat_minor": 5
}
