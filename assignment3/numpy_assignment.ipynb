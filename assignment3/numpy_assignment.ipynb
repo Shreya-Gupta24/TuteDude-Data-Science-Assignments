{
 "cells": [
  {
   "cell_type": "markdown",
   "id": "ef53a4d2",
   "metadata": {},
   "source": [
    "NumPy Assignment"
   ]
  },
  {
   "cell_type": "code",
   "execution_count": 7,
   "id": "7618d66b",
   "metadata": {},
   "outputs": [],
   "source": [
    "import numpy as np\n",
    "import random"
   ]
  },
  {
   "cell_type": "markdown",
   "id": "f0d4a796",
   "metadata": {},
   "source": [
    "1. A 1D NumPy array with integers from 1 to 20"
   ]
  },
  {
   "cell_type": "code",
   "execution_count": null,
   "id": "37b8fae9",
   "metadata": {},
   "outputs": [
    {
     "name": "stdout",
     "output_type": "stream",
     "text": [
      "Array: [ 1  2  3  4  5  6  7  8  9 10 11 12 13 14 15 16 17 18 19 20]\n",
      "Sum: 210\n",
      "Mean: 10.5\n",
      "Median: 10.5\n",
      "Standard Deviation: 5.766281297335398\n",
      "Indices of elements > 10: (array([10, 11, 12, 13, 14, 15, 16, 17, 18, 19]),)\n"
     ]
    }
   ],
   "source": [
    "arr1 = np.arange(1, 21)\n",
    "print(\"Array:\", arr1)\n",
    "\n",
    "print(\"Sum:\", np.sum(arr1))\n",
    "print(\"Mean:\", np.mean(arr1))\n",
    "print(\"Median:\", np.median(arr1))\n",
    "print(\"Standard Deviation:\", np.std(arr1))\n",
    "\n",
    "indices_get_10 = np.where(arr1 > 10)\n",
    "print(\"Indices of elements > 10:\", indices_gt_10)"
   ]
  },
  {
   "cell_type": "markdown",
   "id": "a00dcfa2",
   "metadata": {},
   "source": [
    "array is created using np.arange and it sum, mean, median and standard deviation are found out usinf np.sum(), np.mean(), np.median() and np.std() respectively.\n",
    "then the indices of the no.s greater than 10 are found out using np.where()."
   ]
  },
  {
   "cell_type": "markdown",
   "id": "4ee47e53",
   "metadata": {},
   "source": [
    "2. 2D NumPy array of shape 4x4 with numbers from 1 to 16"
   ]
  },
  {
   "cell_type": "code",
   "execution_count": 3,
   "id": "30e53e90",
   "metadata": {},
   "outputs": [
    {
     "name": "stdout",
     "output_type": "stream",
     "text": [
      "2D Array:\n",
      " [[ 1  2  3  4]\n",
      " [ 5  6  7  8]\n",
      " [ 9 10 11 12]\n",
      " [13 14 15 16]]\n",
      "Transpose:\n",
      " [[ 1  5  9 13]\n",
      " [ 2  6 10 14]\n",
      " [ 3  7 11 15]\n",
      " [ 4  8 12 16]]\n",
      "Row-wise sums: [10 26 42 58]\n",
      "Column-wise sums: [28 32 36 40]\n"
     ]
    }
   ],
   "source": [
    "arr2 = np.arange(1, 17).reshape(4, 4)\n",
    "\n",
    "print(\"2D Array:\\n\", arr2)\n",
    "print(\"Transpose:\\n\", arr2.transpose())\n",
    "print(\"Row-wise sums:\", np.sum(arr2, axis=1))\n",
    "print(\"Column-wise sums:\", np.sum(arr2, axis=0))"
   ]
  },
  {
   "cell_type": "markdown",
   "id": "be753558",
   "metadata": {},
   "source": [
    "the array arr2 is created and sum is found out using np.sum(). \n",
    "axis 1 denots rows and axis 0 denotes columns."
   ]
  },
  {
   "cell_type": "markdown",
   "id": "fa56fad7",
   "metadata": {},
   "source": [
    "## 3. Two 3x3 arrays filled with random integers between 1 and 20"
   ]
  },
  {
   "cell_type": "code",
   "execution_count": 9,
   "id": "006cbb3f",
   "metadata": {},
   "outputs": [
    {
     "name": "stdout",
     "output_type": "stream",
     "text": [
      "Array 1:\n",
      " [[10 10 11]\n",
      " [14 13 16]\n",
      " [17 21  8]]\n",
      "Array 2:\n",
      " [[ 1 21 14]\n",
      " [17 13  6]\n",
      " [11  7 10]]\n",
      "Addition:\n",
      " [[11 31 25]\n",
      " [31 26 22]\n",
      " [28 28 18]]\n",
      "Subtraction:\n",
      " [[  9 -11  -3]\n",
      " [ -3   0  10]\n",
      " [  6  14  -2]]\n",
      "Multiplication:\n",
      " [[ 10 210 154]\n",
      " [238 169  96]\n",
      " [187 147  80]]\n",
      "Dot Product:\n",
      " [[301 417 310]\n",
      " [411 575 434]\n",
      " [462 686 444]]\n"
     ]
    }
   ],
   "source": [
    "l1=[]\n",
    "l2=[]\n",
    "for i in range(1,10):\n",
    "    l1.append(random.randint(1, 21))\n",
    "    l2.append(random.randint(1, 21))\n",
    "arr3 = np.array(l1).reshape(3, 3)\n",
    "arr4 = np.array(l2).reshape(3, 3)\n",
    "\n",
    "print(\"Array 1:\\n\", arr3)\n",
    "print(\"Array 2:\\n\", arr4)\n",
    "\n",
    "print(\"Addition:\\n\", arr3 + arr4)\n",
    "print(\"Subtraction:\\n\", arr3 - arr4)\n",
    "print(\"Multiplication:\\n\", arr3 * arr4)\n",
    "\n",
    "print(\"Dot Product:\\n\", arr3.dot(arr4))"
   ]
  },
  {
   "cell_type": "markdown",
   "id": "e11f16a1",
   "metadata": {},
   "source": [
    "2 arrays are created. the element wise sum, difference and product is found out using simple operators. then the dot product is found out using np.dot()."
   ]
  },
  {
   "cell_type": "markdown",
   "id": "3ec0c559",
   "metadata": {},
   "source": [
    "4. Reshaping a 1D array of size 12 into a 3x4 2D array and slice"
   ]
  },
  {
   "cell_type": "code",
   "execution_count": 10,
   "id": "52f35e5d",
   "metadata": {},
   "outputs": [
    {
     "name": "stdout",
     "output_type": "stream",
     "text": [
      "Original 3x4 Array:\n",
      " [[ 1  2  3  4]\n",
      " [ 5  6  7  8]\n",
      " [ 9 10 11 12]]\n",
      "Sliced (first 2 rows, last 2 cols):\n",
      " [[3 4]\n",
      " [7 8]]\n"
     ]
    }
   ],
   "source": [
    "arr5 = np.arange(1, 13).reshape(3, 4)\n",
    "print(\"Original 3x4 Array:\\n\", arr5)\n",
    "\n",
    "sliced = arr5[:2, -2:]\n",
    "print(\"Sliced (first 2 rows, last 2 cols):\\n\", sliced)"
   ]
  },
  {
   "cell_type": "markdown",
   "id": "164921f7",
   "metadata": {},
   "source": [
    "array is created and then 1st two rows and last 2 columns are sliced out."
   ]
  }
 ],
 "metadata": {
  "kernelspec": {
   "display_name": "Python 3",
   "language": "python",
   "name": "python3"
  },
  "language_info": {
   "codemirror_mode": {
    "name": "ipython",
    "version": 3
   },
   "file_extension": ".py",
   "mimetype": "text/x-python",
   "name": "python",
   "nbconvert_exporter": "python",
   "pygments_lexer": "ipython3",
   "version": "3.13.4"
  }
 },
 "nbformat": 4,
 "nbformat_minor": 5
}
