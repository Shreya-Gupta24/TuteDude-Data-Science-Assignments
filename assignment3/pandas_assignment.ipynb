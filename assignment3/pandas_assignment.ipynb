{
 "cells": [
  {
   "cell_type": "markdown",
   "id": "eefa1141",
   "metadata": {},
   "source": [
    "# Pandas Assignment"
   ]
  },
  {
   "cell_type": "code",
   "execution_count": null,
   "id": "bff13c86",
   "metadata": {},
   "outputs": [],
   "source": [
    "import pandas as pd"
   ]
  },
  {
   "cell_type": "markdown",
   "id": "1890bec8",
   "metadata": {},
   "source": [
    "## 1. Create a DataFrame with given data"
   ]
  },
  {
   "cell_type": "code",
   "execution_count": null,
   "id": "9d416a67",
   "metadata": {},
   "outputs": [],
   "source": [
    "data = {\n",
    "    'Name': ['Alice', 'Bob', 'Charlie', 'Diana', 'Eve'],\n",
    "    'Age': [24, 27, 22, 32, 29],\n",
    "    'Department': ['HR', 'Finance', 'IT', 'Marketing', 'HR'],\n",
    "    'Salary': [45000, 54000, 50000, 62000, 47000]\n",
    "}\n",
    "\n",
    "df = pd.DataFrame(data)\n",
    "\n",
    "# a. First five rows\n",
    "print(\"DataFrame:\")\n",
    "print(df.head())\n",
    "\n",
    "# b. Summary statistics of Age and Salary\n",
    "print(\"\\nSummary statistics:\")\n",
    "print(df[['Age', 'Salary']].describe())\n",
    "\n",
    "# c. Average salary in HR department\n",
    "avg_salary_hr = df[df['Department'] == 'HR']['Salary'].mean()\n",
    "print(\"\\nAverage salary in HR department:\", avg_salary_hr)"
   ]
  },
  {
   "cell_type": "markdown",
   "id": "08ed30f2",
   "metadata": {},
   "source": [
    "## 2. Add a new column 'Bonus' (10% of Salary)"
   ]
  },
  {
   "cell_type": "code",
   "execution_count": null,
   "id": "f3a07855",
   "metadata": {},
   "outputs": [],
   "source": [
    "df['Bonus'] = df['Salary'] * 0.10\n",
    "print(df)"
   ]
  },
  {
   "cell_type": "markdown",
   "id": "1029576f",
   "metadata": {},
   "source": [
    "## 3. Filter employees aged between 25 and 30"
   ]
  },
  {
   "cell_type": "code",
   "execution_count": null,
   "id": "52a4a9aa",
   "metadata": {},
   "outputs": [],
   "source": [
    "filtered = df[(df['Age'] >= 25) & (df['Age'] <= 30)]\n",
    "print(filtered)"
   ]
  },
  {
   "cell_type": "markdown",
   "id": "69018027",
   "metadata": {},
   "source": [
    "## 4. Group by Department and calculate average salary"
   ]
  },
  {
   "cell_type": "code",
   "execution_count": null,
   "id": "11e245c9",
   "metadata": {},
   "outputs": [],
   "source": [
    "dept_avg_salary = df.groupby('Department')['Salary'].mean()\n",
    "print(dept_avg_salary)"
   ]
  },
  {
   "cell_type": "markdown",
   "id": "6f1bd7e3",
   "metadata": {},
   "source": [
    "## 5. Sort by Salary and save to CSV"
   ]
  },
  {
   "cell_type": "code",
   "execution_count": null,
   "id": "24097bce",
   "metadata": {},
   "outputs": [],
   "source": [
    "sorted_df = df.sort_values(by='Salary', ascending=True)\n",
    "print(sorted_df)\n",
    "\n",
    "# Save to CSV\n",
    "sorted_df.to_csv(\"pandas_assignment_sorted.csv\", index=False)"
   ]
  }
 ],
 "metadata": {
  "kernelspec": {
   "display_name": "Python 3",
   "language": "python",
   "name": "python3"
  },
  "language_info": {
   "codemirror_mode": {
    "name": "ipython",
    "version": 3
   },
   "file_extension": ".py",
   "mimetype": "text/x-python",
   "name": "python",
   "nbconvert_exporter": "python",
   "pygments_lexer": "ipython3",
   "version": "3.13.4"
  }
 },
 "nbformat": 4,
 "nbformat_minor": 5
}
