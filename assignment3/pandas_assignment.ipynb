{
 "cells": [
  {
   "cell_type": "markdown",
   "id": "eefa1141",
   "metadata": {},
   "source": [
    "Pandas Assignment"
   ]
  },
  {
   "cell_type": "code",
   "execution_count": 1,
   "id": "bff13c86",
   "metadata": {},
   "outputs": [],
   "source": [
    "import pandas as pd"
   ]
  },
  {
   "cell_type": "markdown",
   "id": "1890bec8",
   "metadata": {},
   "source": [
    "1. Creating a DataFrame with given data"
   ]
  },
  {
   "cell_type": "code",
   "execution_count": 2,
   "id": "9d416a67",
   "metadata": {},
   "outputs": [
    {
     "name": "stdout",
     "output_type": "stream",
     "text": [
      "DataFrame:\n",
      "      Name  Age Department  Salary\n",
      "0    Alice   24         HR   45000\n",
      "1      Bob   27    Finance   54000\n",
      "2  Charlie   22         IT   50000\n",
      "3    Diana   32  Marketing   62000\n",
      "4      Eve   29         HR   47000\n",
      "\n",
      "Summary statistics:\n",
      "             Age        Salary\n",
      "count   5.000000      5.000000\n",
      "mean   26.800000  51600.000000\n",
      "std     3.962323   6730.527468\n",
      "min    22.000000  45000.000000\n",
      "25%    24.000000  47000.000000\n",
      "50%    27.000000  50000.000000\n",
      "75%    29.000000  54000.000000\n",
      "max    32.000000  62000.000000\n",
      "\n",
      "Average salary in HR department: 46000.0\n"
     ]
    }
   ],
   "source": [
    "data = {\n",
    "    'Name': ['Alice', 'Bob', 'Charlie', 'Diana', 'Eve'],\n",
    "    'Age': [24, 27, 22, 32, 29],\n",
    "    'Department': ['HR', 'Finance', 'IT', 'Marketing', 'HR'],\n",
    "    'Salary': [45000, 54000, 50000, 62000, 47000]\n",
    "}\n",
    "\n",
    "df = pd.DataFrame(data)\n",
    "\n",
    "print(\"DataFrame:\")\n",
    "print(df.head())\n",
    "\n",
    "print(\"\\nSummary statistics:\")\n",
    "print(df[['Age', 'Salary']].describe())\n",
    "\n",
    "avg_salary_hr = df[df['Department'] == 'HR']['Salary'].mean()\n",
    "print(\"\\nAverage salary in HR department:\", avg_salary_hr)"
   ]
  },
  {
   "cell_type": "markdown",
   "id": "08ed30f2",
   "metadata": {},
   "source": [
    "2. Adding a new column 'Bonus' (10% of Salary)"
   ]
  },
  {
   "cell_type": "code",
   "execution_count": 3,
   "id": "f3a07855",
   "metadata": {},
   "outputs": [
    {
     "name": "stdout",
     "output_type": "stream",
     "text": [
      "      Name  Age Department  Salary   Bonus\n",
      "0    Alice   24         HR   45000  4500.0\n",
      "1      Bob   27    Finance   54000  5400.0\n",
      "2  Charlie   22         IT   50000  5000.0\n",
      "3    Diana   32  Marketing   62000  6200.0\n",
      "4      Eve   29         HR   47000  4700.0\n"
     ]
    }
   ],
   "source": [
    "df['Bonus'] = df['Salary'] * 0.10\n",
    "print(df)"
   ]
  },
  {
   "cell_type": "markdown",
   "id": "1029576f",
   "metadata": {},
   "source": [
    "3. Filtering employees aged between 25 and 30"
   ]
  },
  {
   "cell_type": "code",
   "execution_count": 4,
   "id": "52a4a9aa",
   "metadata": {},
   "outputs": [
    {
     "name": "stdout",
     "output_type": "stream",
     "text": [
      "  Name  Age Department  Salary   Bonus\n",
      "1  Bob   27    Finance   54000  5400.0\n",
      "4  Eve   29         HR   47000  4700.0\n"
     ]
    }
   ],
   "source": [
    "filtered = df[(df['Age'] >= 25) & (df['Age'] <= 30)]\n",
    "print(filtered)"
   ]
  },
  {
   "cell_type": "markdown",
   "id": "69018027",
   "metadata": {},
   "source": [
    "4. Grouping by Department and calculating average salary"
   ]
  },
  {
   "cell_type": "code",
   "execution_count": 5,
   "id": "11e245c9",
   "metadata": {},
   "outputs": [
    {
     "name": "stdout",
     "output_type": "stream",
     "text": [
      "Department\n",
      "Finance      54000.0\n",
      "HR           46000.0\n",
      "IT           50000.0\n",
      "Marketing    62000.0\n",
      "Name: Salary, dtype: float64\n"
     ]
    }
   ],
   "source": [
    "dept_avg_salary = df.groupby('Department')['Salary'].mean()\n",
    "print(dept_avg_salary)"
   ]
  },
  {
   "cell_type": "markdown",
   "id": "6f1bd7e3",
   "metadata": {},
   "source": [
    "5. Sorting by Salary and saving to CSV"
   ]
  },
  {
   "cell_type": "code",
   "execution_count": 6,
   "id": "24097bce",
   "metadata": {},
   "outputs": [
    {
     "name": "stdout",
     "output_type": "stream",
     "text": [
      "      Name  Age Department  Salary   Bonus\n",
      "0    Alice   24         HR   45000  4500.0\n",
      "4      Eve   29         HR   47000  4700.0\n",
      "2  Charlie   22         IT   50000  5000.0\n",
      "1      Bob   27    Finance   54000  5400.0\n",
      "3    Diana   32  Marketing   62000  6200.0\n"
     ]
    }
   ],
   "source": [
    "sorted_df = df.sort_values(by='Salary', ascending=True)\n",
    "print(sorted_df)\n",
    "\n",
    "# Save to CSV\n",
    "sorted_df.to_csv(\"pandas_assignment_sorted.csv\", index=False)"
   ]
  }
 ],
 "metadata": {
  "kernelspec": {
   "display_name": "Python 3",
   "language": "python",
   "name": "python3"
  },
  "language_info": {
   "codemirror_mode": {
    "name": "ipython",
    "version": 3
   },
   "file_extension": ".py",
   "mimetype": "text/x-python",
   "name": "python",
   "nbconvert_exporter": "python",
   "pygments_lexer": "ipython3",
   "version": "3.13.4"
  }
 },
 "nbformat": 4,
 "nbformat_minor": 5
}
