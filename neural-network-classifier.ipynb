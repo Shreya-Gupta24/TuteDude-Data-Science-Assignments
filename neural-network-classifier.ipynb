{
 "cells": [
  {
   "cell_type": "code",
   "execution_count": 62,
   "id": "89320ec9",
   "metadata": {},
   "outputs": [],
   "source": [
    "import numpy as np\n",
    "import matplotlib.pyplot as plt"
   ]
  },
  {
   "cell_type": "code",
   "execution_count": 64,
   "id": "e8882359",
   "metadata": {},
   "outputs": [],
   "source": [
    "a=[0,0,1,1,0,0,\n",
    "   0,1,0,0,1,0,\n",
    "   1,1,1,1,1,1,\n",
    "   1,0,0,0,0,1,\n",
    "   1,0,0,0,0,1]\n",
    "b=[0,1,1,1,1,0,\n",
    "   0,1,0,0,1,0,\n",
    "   0,1,1,1,1,0,\n",
    "   0,1,0,0,1,0,\n",
    "   0,1,1,1,1,0]\n",
    "c=[0,1,1,1,1,0,\n",
    "   0,1,0,0,0,0,\n",
    "   0,1,0,0,0,0,\n",
    "   0,1,0,0,0,0,\n",
    "   0,1,1,1,1,0]"
   ]
  },
  {
   "cell_type": "code",
   "execution_count": 65,
   "id": "53fa5d54",
   "metadata": {},
   "outputs": [],
   "source": [
    "y=[[1,0,0],\n",
    "   [0,1,0],\n",
    "   [0,0,1]]"
   ]
  },
  {
   "cell_type": "code",
   "execution_count": 66,
   "id": "f6d8ffbe",
   "metadata": {},
   "outputs": [
    {
     "data": {
      "image/png": "[encoded data removed]",
      "text/plain": [
       "<Figure size 640x480 with 1 Axes>"
      ]
     },
     "metadata": {},
     "output_type": "display_data"
    }
   ],
   "source": [
    "#visualize the data\n",
    "plt.imshow(np.array(a).reshape(5,6))\n",
    "plt.show()"
   ]
  },
  {
   "cell_type": "code",
   "execution_count": null,
   "id": "92f7ebde",
   "metadata": {},
   "outputs": [
    {
     "name": "stdout",
     "output_type": "stream",
     "text": [
      "[array([[0, 0, 1, 1, 0, 0, 0, 1, 0, 0, 1, 0, 1, 1, 1, 1, 1, 1, 1, 0, 0, 0,\n",
      "        0, 1, 1, 0, 0, 0, 0, 1]]), array([[0, 1, 1, 1, 1, 0, 0, 1, 0, 0, 1, 0, 0, 1, 1, 1, 1, 0, 0, 1, 0, 0,\n",
      "        1, 0, 0, 1, 1, 1, 1, 0]]), array([[0, 1, 1, 1, 1, 0, 0, 1, 0, 0, 0, 0, 0, 1, 0, 0, 0, 0, 0, 1, 0, 0,\n",
      "        0, 0, 0, 1, 1, 1, 1, 0]])] \n",
      "\n",
      " [[1 0 0]\n",
      " [0 1 0]\n",
      " [0 0 1]]\n"
     ]
    }
   ],
   "source": [
    "#convert data and labels to numpy arrays\n",
    "x=[np.array(a).reshape(1,30),np.array(b).reshape(1,30),np.array(c).reshape(1,30)]\n",
    "Y=np.array(y)\n",
    "print(x,\"\\n\\n\",Y)"
   ]
  },
  {
   "cell_type": "code",
   "execution_count": null,
   "id": "66b848a5",
   "metadata": {},
   "outputs": [],
   "source": [
    "#imput (1,30)\n",
    "#hidden(1,5)\n",
    "#output (3,3)"
   ]
  },
  {
   "cell_type": "code",
   "execution_count": 68,
   "id": "d79596d5",
   "metadata": {},
   "outputs": [],
   "source": [
    "#activation function\n",
    "def sigmoid(x):\n",
    "    return 1 / (1 + np.exp(-x))"
   ]
  },
  {
   "cell_type": "code",
   "execution_count": 69,
   "id": "2d7f5b4d",
   "metadata": {},
   "outputs": [],
   "source": [
    "#creating forward neural networks\n",
    "def f_forward(x, w1, w2):\n",
    "    #hidden layer\n",
    "    z1 = np.dot(x, w1)\n",
    "    a1 = sigmoid(z1) \n",
    "    #output layer\n",
    "    z2 = np.dot(a1, w2)\n",
    "    a2 = sigmoid(z2) \n",
    "    return a2"
   ]
  },
  {
   "cell_type": "code",
   "execution_count": 70,
   "id": "a535d3df",
   "metadata": {},
   "outputs": [],
   "source": [
    "#initialize the weights\n",
    "def generate_wt(x,y):\n",
    "    l=[]\n",
    "    for i in range(x*y):\n",
    "        l.append(np.random.randn())\n",
    "    return np.array(l).reshape(x,y)"
   ]
  },
  {
   "cell_type": "code",
   "execution_count": 71,
   "id": "ca8c875e",
   "metadata": {},
   "outputs": [],
   "source": [
    "def loss(out, y):\n",
    "    s= np.square(out - y)\n",
    "    s=np.sum(s)/len(y)\n",
    "    return s\n"
   ]
  },
  {
   "cell_type": "code",
   "execution_count": 72,
   "id": "cc5d91e1",
   "metadata": {},
   "outputs": [],
   "source": [
    "#back propagation\n",
    "def back_prop(x, y, w1, w2, alpha):\n",
    "    #hidden\n",
    "    z1=x.dot(w1)\n",
    "    a1=sigmoid(z1)\n",
    "    #output layer\n",
    "    z2=a1.dot(w2)\n",
    "    a2=sigmoid(z2)\n",
    "\n",
    "    d2 = a2 - y\n",
    "    d1=np.multiply((w2.dot((d2.transpose()))), np.multiply(a1, (1-a1)))\n",
    "\n",
    "    #gradient\n",
    "    w1_adj= x.transpose().dot(d1)\n",
    "    w2_adj= a1.transpose().dot(d2)\n",
    "\n",
    "    w1=w1 - (alpha * w1_adj)\n",
    "    w2=w2 - (alpha * w2_adj)    \n",
    "    return w1, w2"
   ]
  },
  {
   "cell_type": "code",
   "execution_count": 80,
   "id": "ee1e34fe",
   "metadata": {},
   "outputs": [],
   "source": [
    "def train(x,y,w1,w2,alpha=0.01,epoch=10):\n",
    "    acc=[]\n",
    "    los=[]\n",
    "    for j in range(epoch):\n",
    "        l=[]\n",
    "        for i in range(len(x)):\n",
    "            out=f_forward(x[i], w1, w2)\n",
    "            l.append(loss(out, y[i]))\n",
    "            w1, w2 = back_prop(x[i], y[i], w1, w2, alpha)\n",
    "        print(\"Epoch:\", j+1, \"acc:\",(1-(sum(l)/len(x)))*100)\n",
    "        acc.append((1-(sum(l)/len(x)))*100)\n",
    "        los.append(sum(l)/len(x))\n",
    "    return w1, w2, acc, los"
   ]
  },
  {
   "cell_type": "code",
   "execution_count": 81,
   "id": "799fce3f",
   "metadata": {},
   "outputs": [],
   "source": [
    "def predict(x, w1, w2):\n",
    "    out = f_forward(x, w1, w2)\n",
    "    maxm=0\n",
    "    k=0\n",
    "    for i in range(len(out[0])):\n",
    "        if out[0][i] > maxm:\n",
    "            maxm = out[0][i]\n",
    "            k = i\n",
    "    if k == 0:\n",
    "        print(\"Image is of letter A\")\n",
    "    elif k == 1:\n",
    "        print(\"Image is of letter B\")   \n",
    "    else:\n",
    "        print(\"Image is of letter C\")\n",
    "    plt.imshow(x.reshape(5,6))\n",
    "    plt.show()"
   ]
  },
  {
   "cell_type": "code",
   "execution_count": 84,
   "id": "6144cbb0",
   "metadata": {},
   "outputs": [
    {
     "name": "stdout",
     "output_type": "stream",
     "text": [
      "[[-1.06448302e+00 -3.64112124e-01  1.48123512e+00 -7.71263207e-01\n",
      "  -1.22911405e+00]\n",
      " [ 7.27786365e-01  8.15292893e-01 -9.65998577e-01  1.17318479e+00\n",
      "  -1.00469622e+00]\n",
      " [-2.70348081e-01 -3.74280118e-01 -2.00159712e-01  1.23686010e+00\n",
      "  -9.69460619e-01]\n",
      " [ 1.76046105e-01 -4.41945544e-01  1.75307438e+00  1.01005183e+00\n",
      "   1.16003214e+00]\n",
      " [ 9.10336170e-01 -2.61209677e-01  1.33166649e+00 -7.63109061e-01\n",
      "  -1.82434779e-01]\n",
      " [-1.19318727e-01  5.54522454e-01  1.52820064e+00 -1.12348310e+00\n",
      "  -2.89991196e-01]\n",
      " [ 1.12100244e+00  2.30614996e-01 -1.29750375e-01 -1.00773198e+00\n",
      "   4.42198539e-01]\n",
      " [-5.02848674e-02 -7.65656250e-01  1.12426182e+00 -5.67194581e-01\n",
      "  -8.44288691e-01]\n",
      " [ 6.10973729e-01  1.03635698e+00 -2.28464582e+00 -5.14139569e-01\n",
      "  -1.10846147e-01]\n",
      " [ 9.87443726e-01  7.43136670e-02 -3.91804329e-02  3.34687586e-01\n",
      "  -3.43604559e-01]\n",
      " [ 6.85774363e-01  1.51695111e+00 -1.71418824e-01  1.51925822e+00\n",
      "  -9.17176279e-01]\n",
      " [-5.80716666e-01 -4.21729057e-01 -6.48834046e-01 -1.46082177e+00\n",
      "  -5.67154385e-01]\n",
      " [-1.29036737e-01  8.83071903e-01  1.07579109e+00  5.23230742e-01\n",
      "  -1.14931099e+00]\n",
      " [-2.51864116e-01  6.25197006e-01  1.79520132e+00  1.75331455e+00\n",
      "   8.58499658e-01]\n",
      " [ 1.10505960e+00 -9.08552560e-02  6.99644362e-01  6.91564881e-01\n",
      "   8.28844729e-01]\n",
      " [ 8.55948535e-01  1.23306722e+00 -5.84122701e-01 -7.38045281e-01\n",
      "  -1.86864251e+00]\n",
      " [ 2.94133944e+00 -9.59723374e-01 -1.18800400e+00 -3.41619514e-01\n",
      "  -6.97505387e-01]\n",
      " [ 1.91562645e+00 -1.05786679e+00 -5.84858350e-02 -2.46102344e-01\n",
      "   4.76029139e-01]\n",
      " [ 2.66504668e-01  2.67033105e+00 -1.39971889e+00 -9.94912950e-01\n",
      "  -5.24888464e-02]\n",
      " [-1.04709743e+00 -5.77580353e-01  3.23654584e-01  3.30383321e-01\n",
      "   1.17088341e+00]\n",
      " [ 3.60718582e-01 -2.49938729e-01 -3.34292609e-01  1.21340341e-01\n",
      "   1.13494279e+00]\n",
      " [-3.65568594e-02  1.36075682e-02  6.11011562e-01  1.24769257e+00\n",
      "  -1.97882427e-01]\n",
      " [-7.55365800e-02 -8.40655989e-01  5.68426889e-01 -7.87318458e-01\n",
      "   9.20001275e-01]\n",
      " [-1.05992716e+00 -1.01462520e-01  3.79167022e-01  1.22378507e+00\n",
      "  -7.02127092e-02]\n",
      " [-5.11682015e-01  1.08263562e+00  1.16488981e+00  3.71523722e-01\n",
      "   1.76056440e-03]\n",
      " [ 1.40782425e+00 -3.88835033e-01 -5.77617973e-01 -1.14088068e+00\n",
      "  -6.64386945e-03]\n",
      " [-2.96768190e-01  6.89844574e-03 -2.63912655e-01  1.88503486e+00\n",
      "   4.46909125e-01]\n",
      " [-1.31370044e+00  5.35515276e-01  1.80154923e+00 -5.39473973e-01\n",
      "  -9.13385636e-01]\n",
      " [ 3.00266836e-01 -2.46366953e+00 -4.46780804e-01 -1.19389310e+00\n",
      "  -1.30020016e+00]\n",
      " [ 3.67847986e-01  1.69840842e+00  9.85013648e-01  4.15522045e-01\n",
      "   1.30686822e-01]] [[-0.72027799  0.61223408  0.4882749 ]\n",
      " [-0.26576239  0.29863293  0.08363877]\n",
      " [-0.86569908  0.61726295 -1.5297009 ]\n",
      " [ 1.90493521  0.70649374  0.02195699]\n",
      " [-0.32498623 -0.67794015 -1.00520695]]\n"
     ]
    }
   ],
   "source": [
    "w1=generate_wt(30,5)\n",
    "w2=generate_wt(5,3)\n",
    "print(w1,w2)"
   ]
  },
  {
   "cell_type": "code",
   "execution_count": 83,
   "id": "f6e0b9fc",
   "metadata": {},
   "outputs": [
    {
     "ename": "ValueError",
     "evalue": "shapes (30,1) and (5,5) not aligned: 1 (dim 1) != 5 (dim 0)",
     "output_type": "error",
     "traceback": [
      "\u001b[31m---------------------------------------------------------------------------\u001b[39m",
      "\u001b[31mValueError\u001b[39m                                Traceback (most recent call last)",
      "\u001b[36mCell\u001b[39m\u001b[36m \u001b[39m\u001b[32mIn[83]\u001b[39m\u001b[32m, line 1\u001b[39m\n\u001b[32m----> \u001b[39m\u001b[32m1\u001b[39m w1, w2, acc, los = \u001b[43mtrain\u001b[49m\u001b[43m(\u001b[49m\u001b[43mx\u001b[49m\u001b[43m,\u001b[49m\u001b[43m \u001b[49m\u001b[43my\u001b[49m\u001b[43m,\u001b[49m\u001b[43m \u001b[49m\u001b[43mw1\u001b[49m\u001b[43m,\u001b[49m\u001b[43m \u001b[49m\u001b[43mw2\u001b[49m\u001b[43m,\u001b[49m\u001b[32;43m0.1\u001b[39;49m\u001b[43m,\u001b[49m\u001b[32;43m100\u001b[39;49m\u001b[43m)\u001b[49m\n",
      "\u001b[36mCell\u001b[39m\u001b[36m \u001b[39m\u001b[32mIn[80]\u001b[39m\u001b[32m, line 9\u001b[39m, in \u001b[36mtrain\u001b[39m\u001b[34m(x, y, w1, w2, alpha, epoch)\u001b[39m\n\u001b[32m      7\u001b[39m     out=f_forward(x[i], w1, w2)\n\u001b[32m      8\u001b[39m     l.append(loss(out, y[i]))\n\u001b[32m----> \u001b[39m\u001b[32m9\u001b[39m     w1, w2 = \u001b[43mback_prop\u001b[49m\u001b[43m(\u001b[49m\u001b[43mx\u001b[49m\u001b[43m[\u001b[49m\u001b[43mi\u001b[49m\u001b[43m]\u001b[49m\u001b[43m,\u001b[49m\u001b[43m \u001b[49m\u001b[43my\u001b[49m\u001b[43m[\u001b[49m\u001b[43mi\u001b[49m\u001b[43m]\u001b[49m\u001b[43m,\u001b[49m\u001b[43m \u001b[49m\u001b[43mw1\u001b[49m\u001b[43m,\u001b[49m\u001b[43m \u001b[49m\u001b[43mw2\u001b[49m\u001b[43m,\u001b[49m\u001b[43m \u001b[49m\u001b[43malpha\u001b[49m\u001b[43m)\u001b[49m\n\u001b[32m     10\u001b[39m \u001b[38;5;28mprint\u001b[39m(\u001b[33m\"\u001b[39m\u001b[33mEpoch:\u001b[39m\u001b[33m\"\u001b[39m, j+\u001b[32m1\u001b[39m, \u001b[33m\"\u001b[39m\u001b[33macc:\u001b[39m\u001b[33m\"\u001b[39m,(\u001b[32m1\u001b[39m-(\u001b[38;5;28msum\u001b[39m(l)/\u001b[38;5;28mlen\u001b[39m(x)))*\u001b[32m100\u001b[39m)\n\u001b[32m     11\u001b[39m acc.append((\u001b[32m1\u001b[39m-(\u001b[38;5;28msum\u001b[39m(l)/\u001b[38;5;28mlen\u001b[39m(x)))*\u001b[32m100\u001b[39m)\n",
      "\u001b[36mCell\u001b[39m\u001b[36m \u001b[39m\u001b[32mIn[72]\u001b[39m\u001b[32m, line 14\u001b[39m, in \u001b[36mback_prop\u001b[39m\u001b[34m(x, y, w1, w2, alpha)\u001b[39m\n\u001b[32m     11\u001b[39m d1=np.multiply((w2.dot((d2.transpose()))), np.multiply(a1, (\u001b[32m1\u001b[39m-a1)))\n\u001b[32m     13\u001b[39m \u001b[38;5;66;03m#gradient\u001b[39;00m\n\u001b[32m---> \u001b[39m\u001b[32m14\u001b[39m w1_adj= \u001b[43mx\u001b[49m\u001b[43m.\u001b[49m\u001b[43mtranspose\u001b[49m\u001b[43m(\u001b[49m\u001b[43m)\u001b[49m\u001b[43m.\u001b[49m\u001b[43mdot\u001b[49m\u001b[43m(\u001b[49m\u001b[43md1\u001b[49m\u001b[43m)\u001b[49m\n\u001b[32m     15\u001b[39m w2_adj= a1.transpose().dot(d2)\n\u001b[32m     17\u001b[39m w1=w1 - (alpha * w1_adj)\n",
      "\u001b[31mValueError\u001b[39m: shapes (30,1) and (5,5) not aligned: 1 (dim 1) != 5 (dim 0)"
     ]
    }
   ],
   "source": [
    "w1, w2, acc, los = train(x, y, w1, w2,0.1,100)"
   ]
  },
  {
   "cell_type": "code",
   "execution_count": 85,
   "id": "6c7bac2d",
   "metadata": {},
   "outputs": [
    {
     "ename": "NameError",
     "evalue": "name 'acc' is not defined",
     "output_type": "error",
     "traceback": [
      "\u001b[31m---------------------------------------------------------------------------\u001b[39m",
      "\u001b[31mNameError\u001b[39m                                 Traceback (most recent call last)",
      "\u001b[36mCell\u001b[39m\u001b[36m \u001b[39m\u001b[32mIn[85]\u001b[39m\u001b[32m, line 2\u001b[39m\n\u001b[32m      1\u001b[39m \u001b[38;5;28;01mimport\u001b[39;00m\u001b[38;5;250m \u001b[39m\u001b[34;01mmatplotlib\u001b[39;00m\u001b[34;01m.\u001b[39;00m\u001b[34;01mpyplot\u001b[39;00m\u001b[38;5;250m \u001b[39m\u001b[38;5;28;01mas\u001b[39;00m\u001b[38;5;250m \u001b[39m\u001b[34;01mplt1\u001b[39;00m\n\u001b[32m----> \u001b[39m\u001b[32m2\u001b[39m plt1.plot(\u001b[43macc\u001b[49m)\n\u001b[32m      3\u001b[39m plt1.xlabel(\u001b[33m\"\u001b[39m\u001b[33mEpochs\u001b[39m\u001b[33m\"\u001b[39m)   \n\u001b[32m      4\u001b[39m plt1.ylabel(\u001b[33m\"\u001b[39m\u001b[33mAccuracy\u001b[39m\u001b[33m\"\u001b[39m)\n",
      "\u001b[31mNameError\u001b[39m: name 'acc' is not defined"
     ]
    }
   ],
   "source": [
    "import matplotlib.pyplot as plt1\n",
    "plt1.plot(acc)\n",
    "plt1.xlabel(\"Epochs\")   \n",
    "plt1.ylabel(\"Accuracy\")\n",
    "plt1.show()"
   ]
  },
  {
   "cell_type": "code",
   "execution_count": null,
   "id": "4f7e9ad7",
   "metadata": {},
   "outputs": [],
   "source": [
    "plt1.plot(los)\n",
    "plt1.xlabel(\"Epochs\")\n",
    "plt1.ylabel(\"Loss\")\n",
    "plt1.show()"
   ]
  },
  {
   "cell_type": "code",
   "execution_count": null,
   "id": "9ce75920",
   "metadata": {},
   "outputs": [],
   "source": [
    "print(w1,\"\\n\\n\",w2)"
   ]
  },
  {
   "cell_type": "code",
   "execution_count": null,
   "id": "0afeb965",
   "metadata": {},
   "outputs": [],
   "source": [
    "predict(x[2],w1,w2)# Pandas Assignment\n",
    "import pandas as pd\n",
    "## 1. Create a DataFrame with given data\n",
    "data = {\n",
    "    'Name': ['Alice', 'Bob', 'Charlie', 'Diana', 'Eve'],\n",
    "    'Age': [24, 27, 22, 32, 29],\n",
    "    'Department': ['HR', 'Finance', 'IT', 'Marketing', 'HR'],\n",
    "    'Salary': [45000, 54000, 50000, 62000, 47000]\n",
    "}\n",
    "\n",
    "df = pd.DataFrame(data)\n",
    "\n",
    "# a. First five rows\n",
    "print(\"DataFrame:\")\n",
    "print(df.head())\n",
    "\n",
    "# b. Summary statistics of Age and Salary\n",
    "print(\"\\nSummary statistics:\")\n",
    "print(df[['Age', 'Salary']].describe())\n",
    "\n",
    "# c. Average salary in HR department\n",
    "avg_salary_hr = df[df['Department'] == 'HR']['Salary'].mean()\n",
    "print(\"\\nAverage salary in HR department:\", avg_salary_hr)\n",
    "## 2. Add a new column 'Bonus' (10% of Salary)\n",
    "df['Bonus'] = df['Salary'] * 0.10\n",
    "print(df)\n",
    "## 3. Filter employees aged between 25 and 30\n",
    "filtered = df[(df['Age'] >= 25) & (df['Age'] <= 30)]\n",
    "print(filtered)\n",
    "## 4. Group by Department and calculate average salary\n",
    "dept_avg_salary = df.groupby('Department')['Salary'].mean()\n",
    "print(dept_avg_salary)\n",
    "## 5. Sort by Salary and save to CSV\n",
    "sorted_df = df.sort_values(by='Salary', ascending=True)\n",
    "print(sorted_df)\n",
    "\n",
    "# Save to CSV\n",
    "sorted_df.to_csv(\"pandas_assignment_sorted.csv\", index=False)"
   ]
  }
 ],
 "metadata": {
  "kernelspec": {
   "display_name": "Python 3",
   "language": "python",
   "name": "python3"
  },
  "language_info": {
   "codemirror_mode": {
    "name": "ipython",
    "version": 3
   },
   "file_extension": ".py",
   "mimetype": "text/x-python",
   "name": "python",
   "nbconvert_exporter": "python",
   "pygments_lexer": "ipython3",
   "version": "3.13.4"
  }
 },
 "nbformat": 4,
 "nbformat_minor": 5
}
